{
 "cells": [
  {
   "cell_type": "code",
   "execution_count": 2,
   "metadata": {},
   "outputs": [],
   "source": [
    "import json\n",
    "import ImageSegmentation as ImageSegmentation\n",
    "import os\n",
    "import utils.utils_common as utils_common\n",
    "from segment_anything import sam_model_registry, SamPredictor\n",
    "import cv2\n",
    "import matplotlib.pyplot as plt\n",
    "import time"
   ]
  },
  {
   "cell_type": "code",
   "execution_count": 18,
   "metadata": {},
   "outputs": [],
   "source": [
    "\n",
    "config = {\n",
    "    \"checkpoint_path\": \"../../sam_vit_h_4b8939.pth\",\n",
    "    \"parent_dir\": \"../../data/scan_3\",\n",
    "    \"img_name\": \"0027.png\",\n",
    "    \"instance_json\": \"../../data/scan_3/instance_segmentation.json\",\n",
    "    \"anchor_seeds\": {\n",
    "        \"0027.png\": {\n",
    "             # NOTE: Anchor seeds are specified in (x, y) coordinate format.\n",
    "            \"Appa\": [\n",
    "                [450, 534],\n",
    "                [373, 600],\n",
    "                [394, 541]\n",
    "            ],\n",
    "            \"Milk\": [\n",
    "                [540, 483],\n",
    "                [539, 307],\n",
    "                [490, 616]\n",
    "            ],\n",
    "            \"PurpleDude\": [\n",
    "                [548, 634],\n",
    "                [521, 562],\n",
    "                [554, 681]\n",
    "            ]\n",
    "        }\n",
    "}\n",
    "}\n",
    "\n",
    "def main(config, device=\"cpu\"):\n",
    "    # Load SAM model\n",
    "    sam = sam_model_registry[\"vit_h\"](checkpoint=config[\"checkpoint_path\"])\n",
    "    sam.to(device)\n",
    "    predictor = SamPredictor(sam)\n",
    "\n",
    "    # Paths\n",
    "    parent_dir = config[\"parent_dir\"]\n",
    "    img_name = config[\"img_name\"]\n",
    "    img_path = os.path.join(parent_dir, \"images\", img_name)\n",
    "    out_dir = os.path.join(parent_dir, \"anchor\")\n",
    "    os.makedirs(out_dir, exist_ok=True)\n",
    "\n",
    "    # Load instance category and anchors\n",
    "    instance_category = json.load(open(config[\"instance_json\"]))\n",
    "    anchor_seed = config[\"anchor_seeds\"][img_name]\n",
    "    \n",
    "    # Load image\n",
    "    image = cv2.imread(img_path)\n",
    "    H, W = image.shape[:2]\n",
    "\n",
    "    # Segment\n",
    "    imgSeg = ImageSegmentation.ImageSegmentation(predictor, instance_category, anchor_seed, H, W)\n",
    "    colored_mask = imgSeg.segment_image(img_path, anchor_seed)\n",
    "\n",
    "    # Save result\n",
    "    outpath = os.path.join(out_dir, img_name)\n",
    "    plt.imsave(outpath, colored_mask)\n",
    "    \n",
    "    return colored_mask\n",
    "\n",
    "    \n",
    "colored_mask = main(config)"
   ]
  },
  {
   "cell_type": "code",
   "execution_count": 19,
   "metadata": {},
   "outputs": [
    {
     "data": {
      "text/plain": [
       "<matplotlib.image.AxesImage at 0x7ff99c360580>"
      ]
     },
     "execution_count": 19,
     "metadata": {},
     "output_type": "execute_result"
    },
    {
     "data": {
      "image/png": "[encoded data removed]",
      "text/plain": [
       "<Figure size 640x480 with 1 Axes>"
      ]
     },
     "metadata": {},
     "output_type": "display_data"
    }
   ],
   "source": [
    "plt.imshow(colored_mask)"
   ]
  },
  {
   "cell_type": "code",
   "execution_count": null,
   "metadata": {},
   "outputs": [],
   "source": []
  }
 ],
 "metadata": {
  "kernelspec": {
   "display_name": "Python 3.8.20 ('objectcarver')",
   "language": "python",
   "name": "python3"
  },
  "language_info": {
   "codemirror_mode": {
    "name": "ipython",
    "version": 3
   },
   "file_extension": ".py",
   "mimetype": "text/x-python",
   "name": "python",
   "nbconvert_exporter": "python",
   "pygments_lexer": "ipython3",
   "version": "3.8.20"
  },
  "orig_nbformat": 4,
  "vscode": {
   "interpreter": {
    "hash": "2304a43ac75a54786914751c98f38c7c31a09471a300861c52cb8bd8b5f7b19b"
   }
  }
 },
 "nbformat": 4,
 "nbformat_minor": 2
}
